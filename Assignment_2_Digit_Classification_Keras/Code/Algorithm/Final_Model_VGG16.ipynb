{
 "cells": [
  {
   "cell_type": "code",
   "execution_count": null,
   "metadata": {
    "colab": {
     "autoexec": {
      "startup": false,
      "wait_interval": 0
     }
    },
    "colab_type": "code",
    "id": "6KfWvwjxpwH8"
   },
   "outputs": [],
   "source": [
    "!pip install -U -q PyDrive\n",
    "\n",
    "from pydrive.auth import GoogleAuth\n",
    "from pydrive.drive import GoogleDrive\n",
    "from google.colab import auth\n",
    "from oauth2client.client import GoogleCredentials\n",
    "\n",
    "# Authenticate and create the PyDrive client.\n",
    "auth.authenticate_user()\n",
    "gauth = GoogleAuth()\n",
    "gauth.credentials = GoogleCredentials.get_application_default()\n",
    "drive = GoogleDrive(gauth)"
   ]
  },
  {
   "cell_type": "code",
   "execution_count": 4,
   "metadata": {
    "colab": {
     "autoexec": {
      "startup": false,
      "wait_interval": 0
     },
     "base_uri": "https://localhost:8080/",
     "height": 34
    },
    "colab_type": "code",
    "executionInfo": {
     "elapsed": 2279,
     "status": "ok",
     "timestamp": 1528439152748,
     "user": {
      "displayName": "Quang Trung Nguyen",
      "photoUrl": "https://lh3.googleusercontent.com/a/default-user=s128",
      "userId": "101440611471078999429"
     },
     "user_tz": -600
    },
    "id": "iKAQSw_XwdHM",
    "outputId": "37d3a1a7-af1b-4cef-b19a-01e2d3d030a0"
   },
   "outputs": [
    {
     "data": {
      "text/plain": [
       "'/device:GPU:0'"
      ]
     },
     "execution_count": 4,
     "metadata": {
      "tags": []
     },
     "output_type": "execute_result"
    }
   ],
   "source": [
    "# Test if GPU is active\n",
    "import tensorflow as tf\n",
    "tf.test.gpu_device_name()"
   ]
  },
  {
   "cell_type": "code",
   "execution_count": 5,
   "metadata": {
    "colab": {
     "autoexec": {
      "startup": false,
      "wait_interval": 0
     },
     "base_uri": "https://localhost:8080/",
     "height": 34
    },
    "colab_type": "code",
    "executionInfo": {
     "elapsed": 688,
     "status": "ok",
     "timestamp": 1528439153488,
     "user": {
      "displayName": "Quang Trung Nguyen",
      "photoUrl": "https://lh3.googleusercontent.com/a/default-user=s128",
      "userId": "101440611471078999429"
     },
     "user_tz": -600
    },
    "id": "muRLEoIapgWa",
    "outputId": "4f6f7b44-cc10-40d1-c1a3-0f0a2034dc42"
   },
   "outputs": [
    {
     "name": "stderr",
     "output_type": "stream",
     "text": [
      "Using TensorFlow backend.\n"
     ]
    }
   ],
   "source": [
    "# Load libraries\n",
    "import numpy as np\n",
    "import pandas as pd\n",
    "import matplotlib.pyplot as plt\n",
    "import zipfile\n",
    "import keras\n",
    "import time\n",
    "import h5py    \n",
    "from keras.preprocessing.image import ImageDataGenerator\n",
    "from keras.layers import Dropout, Flatten, Dense\n",
    "from keras import applications\n",
    "from keras import optimizers\n",
    "from keras.models import load_model\n",
    "from keras.models import Sequential\n",
    "\n",
    "%matplotlib inline"
   ]
  },
  {
   "cell_type": "code",
   "execution_count": null,
   "metadata": {
    "colab": {
     "autoexec": {
      "startup": false,
      "wait_interval": 0
     }
    },
    "colab_type": "code",
    "id": "WxZUUSiUBSd2"
   },
   "outputs": [],
   "source": [
    "# Import data and label files\n",
    "\n",
    "# Train labels\n",
    "training_labels_downloaded = drive.CreateFile({'id': '1rJCglyD-6uTow7RFsj5K7WxSl1YFyg8M'})\n",
    "training_labels_downloaded.GetContentFile('train.txt')\n",
    "train_labels = pd.read_csv('train.txt', sep=\" \", header=None)\n",
    "\n",
    "# Test labels\n",
    "test_labels_downloaded = drive.CreateFile({'id': '15a5U1SsguFSdQim7ifoA9vpuhyL5AgTZ'})\n",
    "test_labels_downloaded.GetContentFile('vali.txt')\n",
    "test_labels = pd.read_csv('vali.txt', sep=\" \", header=None)\n",
    "\n",
    "# Train data\n",
    "train_data_downloaded = drive.CreateFile({'id': '1-X94bMCmjMShVVN5VJXPZ936Zly0BOP_'})\n",
    "train_data_downloaded.GetContentFile('train-set.zip')\n",
    "train_data = zipfile.ZipFile('train-set.zip', 'r')\n",
    "train_data.extractall()\n",
    "\n",
    "# Test data\n",
    "test_data_downloaded = drive.CreateFile({'id': '1lSMxDwZFD40ceFAlWCoqT1TlJ9gqgqOx'})\n",
    "test_data_downloaded.GetContentFile('vali-set.zip')\n",
    "test_data = zipfile.ZipFile('vali-set.zip', 'r')\n",
    "test_data.extractall()"
   ]
  },
  {
   "cell_type": "markdown",
   "metadata": {
    "colab_type": "text",
    "id": "FI7ggw_NADKK"
   },
   "source": [
    "###**1. Learn features from **train** and test sets using VGG16's pre-trained convolution layers**"
   ]
  },
  {
   "cell_type": "code",
   "execution_count": 5,
   "metadata": {
    "colab": {
     "autoexec": {
      "startup": false,
      "wait_interval": 0
     },
     "base_uri": "https://localhost:8080/",
     "height": 52
    },
    "colab_type": "code",
    "executionInfo": {
     "elapsed": 2337,
     "status": "ok",
     "timestamp": 1528435192578,
     "user": {
      "displayName": "Quang Trung Nguyen",
      "photoUrl": "https://lh3.googleusercontent.com/a/default-user=s128",
      "userId": "101440611471078999429"
     },
     "user_tz": -600
    },
    "id": "N3cFUTsFK5ax",
    "outputId": "a3199c35-0fa7-4614-8700-ea9267e140ef"
   },
   "outputs": [
    {
     "name": "stdout",
     "output_type": "stream",
     "text": [
      "Downloading data from https://github.com/fchollet/deep-learning-models/releases/download/v0.1/vgg16_weights_tf_dim_ordering_tf_kernels_notop.h5\n",
      "58892288/58889256 [==============================] - 1s 0us/step\n"
     ]
    }
   ],
   "source": [
    "# Adapted from https://blog.keras.io/building-powerful-image-classification-models-using-very-little-data.html\n",
    "\n",
    "# Import pre-trained VGG16 model without fully-connected layers\n",
    "vgg16_model = applications.VGG16(include_top=False, weights='imagenet')\n",
    "\n",
    "# Directory of training and test set\n",
    "train_directory = 'train-set'\n",
    "vali_directory = 'vali-set'\n",
    "# Samples counts\n",
    "train_samples = 37882\n",
    "vali_samples = 6262\n",
    "batch_size = 31\n",
    "\n",
    "# Define a data generator for rescaling\n",
    "rescale_data = ImageDataGenerator(rescale=1. / 255)"
   ]
  },
  {
   "cell_type": "code",
   "execution_count": 6,
   "metadata": {
    "colab": {
     "autoexec": {
      "startup": false,
      "wait_interval": 0
     },
     "base_uri": "https://localhost:8080/",
     "height": 52
    },
    "colab_type": "code",
    "executionInfo": {
     "elapsed": 194038,
     "status": "ok",
     "timestamp": 1528435393542,
     "user": {
      "displayName": "Quang Trung Nguyen",
      "photoUrl": "https://lh3.googleusercontent.com/a/default-user=s128",
      "userId": "101440611471078999429"
     },
     "user_tz": -600
    },
    "id": "AFLM3w-qK-ht",
    "outputId": "e129da9c-c3fc-46c7-a86d-5950a8c1252d"
   },
   "outputs": [
    {
     "name": "stdout",
     "output_type": "stream",
     "text": [
      "Found 37882 images belonging to 1 classes.\n",
      "Total train time is 3.22 minutes\n"
     ]
    }
   ],
   "source": [
    "# Learn features from train set - should take roughly 3 minutes\n",
    "start = time.time()\n",
    "train_generator = rescale_data.flow_from_directory(\n",
    "    train_directory,\n",
    "    target_size=(150, 150),\n",
    "    batch_size=batch_size,\n",
    "    color_mode='rgb',\n",
    "    class_mode=None,\n",
    "    shuffle=False)\n",
    "\n",
    "train_features = vgg16_model.predict_generator(train_generator, train_samples // batch_size)\n",
    "end = time.time()\n",
    "print('Total train time is {:0.2f} minutes'.format(int(end-start)/60))"
   ]
  },
  {
   "cell_type": "code",
   "execution_count": 7,
   "metadata": {
    "colab": {
     "autoexec": {
      "startup": false,
      "wait_interval": 0
     },
     "base_uri": "https://localhost:8080/",
     "height": 52
    },
    "colab_type": "code",
    "executionInfo": {
     "elapsed": 32229,
     "status": "ok",
     "timestamp": 1528435460574,
     "user": {
      "displayName": "Quang Trung Nguyen",
      "photoUrl": "https://lh3.googleusercontent.com/a/default-user=s128",
      "userId": "101440611471078999429"
     },
     "user_tz": -600
    },
    "id": "3pEGmG3lLETH",
    "outputId": "ea9098c4-29a8-44c1-aafb-85411ea251a8"
   },
   "outputs": [
    {
     "name": "stdout",
     "output_type": "stream",
     "text": [
      "Found 6262 images belonging to 1 classes.\n",
      "Total test time is 0.52 minutes\n"
     ]
    }
   ],
   "source": [
    "# Learn features from test set - should take roughly 1 minute\n",
    "start = time.time()\n",
    "vali_generator = rescale_data.flow_from_directory(\n",
    "    vali_directory,\n",
    "    target_size=(150, 150),\n",
    "    batch_size=batch_size,\n",
    "    color_mode='rgb',\n",
    "    class_mode=None,\n",
    "    shuffle=False)\n",
    "\n",
    "validation_features = vgg16_model.predict_generator(vali_generator, vali_samples // batch_size)\n",
    "end = time.time()\n",
    "print('Total test time is {:0.2f} minutes'.format(int(end-start)/60))"
   ]
  },
  {
   "cell_type": "markdown",
   "metadata": {
    "colab_type": "text",
    "id": "-i3HEp7FC-d9"
   },
   "source": [
    "###**2. Train our model of fully-connected layers using the outputs from VGG16's convolution layers**"
   ]
  },
  {
   "cell_type": "code",
   "execution_count": 8,
   "metadata": {
    "colab": {
     "autoexec": {
      "startup": false,
      "wait_interval": 0
     },
     "base_uri": "https://localhost:8080/",
     "height": 87
    },
    "colab_type": "code",
    "executionInfo": {
     "elapsed": 783,
     "status": "ok",
     "timestamp": 1528435506426,
     "user": {
      "displayName": "Quang Trung Nguyen",
      "photoUrl": "https://lh3.googleusercontent.com/a/default-user=s128",
      "userId": "101440611471078999429"
     },
     "user_tz": -600
    },
    "id": "20sdNONYLG2B",
    "outputId": "a80eb0d9-fd96-49f0-942a-2f55455ae5fa"
   },
   "outputs": [
    {
     "name": "stdout",
     "output_type": "stream",
     "text": [
      "X_train: (37882, 4, 4, 512)\n",
      "y_train: (37882, 62)\n",
      "X_test: (6262, 4, 4, 512)\n",
      "y_test: (6262, 62)\n"
     ]
    }
   ],
   "source": [
    "# Define training and test sets for our model\n",
    "\n",
    "# Train data\n",
    "X_train = train_features\n",
    "y_train = train_labels[1][:]\n",
    "y_train = keras.utils.to_categorical(y_train,62)\n",
    "print('X_train:',X_train.shape)\n",
    "print('y_train:',y_train.shape)\n",
    "\n",
    "# Test data\n",
    "X_test = validation_features\n",
    "y_test = test_labels[1][:]\n",
    "y_test = keras.utils.to_categorical(y_test,62)\n",
    "print('X_test:',X_test.shape)\n",
    "print('y_test:',y_test.shape)"
   ]
  },
  {
   "cell_type": "code",
   "execution_count": null,
   "metadata": {
    "colab": {
     "autoexec": {
      "startup": false,
      "wait_interval": 0
     },
     "base_uri": "https://localhost:8080/",
     "height": 6922
    },
    "colab_type": "code",
    "executionInfo": {
     "elapsed": 1026179,
     "status": "ok",
     "timestamp": 1528202542858,
     "user": {
      "displayName": "chiVinhPT",
      "photoUrl": "https://lh3.googleusercontent.com/a/default-user=s128",
      "userId": "109116061979958150697"
     },
     "user_tz": -600
    },
    "id": "oIaIsHBOlygn",
    "outputId": "738a558a-8dc8-4ae9-ffce-0e84b252646b"
   },
   "outputs": [
    {
     "name": "stdout",
     "output_type": "stream",
     "text": [
      "WARNING:tensorflow:Variable *= will be deprecated. Use variable.assign_mul if you want assignment to the variable value or 'x = x * y' if you want a new python Tensor object.\n",
      "Train on 37882 samples, validate on 6262 samples\n",
      "Epoch 1/200\n",
      "37882/37882 [==============================] - 7s 173us/step - loss: 2.2195 - acc: 0.4483 - val_loss: 0.6438 - val_acc: 0.8047\n",
      "Epoch 2/200\n",
      "37882/37882 [==============================] - 5s 135us/step - loss: 0.7450 - acc: 0.7736 - val_loss: 0.4842 - val_acc: 0.8417\n",
      "Epoch 3/200\n",
      "37882/37882 [==============================] - 5s 136us/step - loss: 0.5826 - acc: 0.8109 - val_loss: 0.4183 - val_acc: 0.8536\n",
      "Epoch 4/200\n",
      "37882/37882 [==============================] - 5s 137us/step - loss: 0.5121 - acc: 0.8256 - val_loss: 0.3774 - val_acc: 0.8609\n",
      "Epoch 5/200\n",
      "37882/37882 [==============================] - 5s 136us/step - loss: 0.4687 - acc: 0.8352 - val_loss: 0.3582 - val_acc: 0.8670\n",
      "Epoch 6/200\n",
      "37882/37882 [==============================] - 5s 136us/step - loss: 0.4321 - acc: 0.8475 - val_loss: 0.3376 - val_acc: 0.8726\n",
      "Epoch 7/200\n",
      "32768/37882 [========================>.....] - ETA: 0s - loss: 0.4102 - acc: 0.849037882/37882 [==============================] - 5s 135us/step - loss: 0.4099 - acc: 0.8484 - val_loss: 0.3207 - val_acc: 0.8748\n",
      "Epoch 8/200\n",
      "37882/37882 [==============================] - 5s 136us/step - loss: 0.3843 - acc: 0.8570 - val_loss: 0.3060 - val_acc: 0.8829\n",
      "Epoch 9/200\n",
      "37882/37882 [==============================] - 5s 135us/step - loss: 0.3733 - acc: 0.8596 - val_loss: 0.2951 - val_acc: 0.8882\n",
      "Epoch 10/200\n",
      "37882/37882 [==============================] - 5s 136us/step - loss: 0.3537 - acc: 0.8638 - val_loss: 0.2968 - val_acc: 0.8821\n",
      "Epoch 11/200\n",
      "37882/37882 [==============================] - 5s 136us/step - loss: 0.3416 - acc: 0.8685 - val_loss: 0.2850 - val_acc: 0.8890\n",
      "Epoch 12/200\n",
      "37882/37882 [==============================] - 5s 136us/step - loss: 0.3345 - acc: 0.8711 - val_loss: 0.2746 - val_acc: 0.8943\n",
      "Epoch 13/200\n",
      "37882/37882 [==============================] - 5s 135us/step - loss: 0.3239 - acc: 0.8743 - val_loss: 0.2761 - val_acc: 0.8911\n",
      "Epoch 14/200\n",
      "37882/37882 [==============================] - 5s 136us/step - loss: 0.3192 - acc: 0.8740 - val_loss: 0.2686 - val_acc: 0.8930\n",
      "Epoch 15/200\n",
      "14336/37882 [==========>...................] - ETA: 2s - loss: 0.3251 - acc: 0.875137882/37882 [==============================] - 5s 136us/step - loss: 0.3176 - acc: 0.8777 - val_loss: 0.2627 - val_acc: 0.8932\n",
      "Epoch 16/200\n",
      "37882/37882 [==============================] - 5s 137us/step - loss: 0.3131 - acc: 0.8771 - val_loss: 0.2579 - val_acc: 0.8973\n",
      "Epoch 17/200\n",
      "37882/37882 [==============================] - 5s 136us/step - loss: 0.3022 - acc: 0.8810 - val_loss: 0.2518 - val_acc: 0.8976\n",
      "Epoch 18/200\n",
      "37882/37882 [==============================] - 5s 135us/step - loss: 0.3024 - acc: 0.8800 - val_loss: 0.2541 - val_acc: 0.9004\n",
      "Epoch 19/200\n",
      "37882/37882 [==============================] - 5s 136us/step - loss: 0.2962 - acc: 0.8824 - val_loss: 0.2524 - val_acc: 0.9043\n",
      "Epoch 20/200\n",
      "37882/37882 [==============================] - 5s 135us/step - loss: 0.2969 - acc: 0.8834 - val_loss: 0.2538 - val_acc: 0.9004\n",
      "Epoch 21/200\n",
      "37882/37882 [==============================] - 5s 136us/step - loss: 0.2932 - acc: 0.8837 - val_loss: 0.2510 - val_acc: 0.8983\n",
      "Epoch 22/200\n",
      "37882/37882 [==============================] - 5s 135us/step - loss: 0.2916 - acc: 0.8846 - val_loss: 0.2422 - val_acc: 0.9023\n",
      "Epoch 23/200\n",
      "12288/37882 [========>.....................] - ETA: 3s - loss: 0.2802 - acc: 0.887237882/37882 [==============================] - 5s 136us/step - loss: 0.2866 - acc: 0.8861 - val_loss: 0.2476 - val_acc: 0.9039\n",
      "Epoch 24/200\n",
      "37882/37882 [==============================] - 5s 136us/step - loss: 0.2781 - acc: 0.8883 - val_loss: 0.2496 - val_acc: 0.9016\n",
      "Epoch 25/200\n",
      "37882/37882 [==============================] - 5s 136us/step - loss: 0.2793 - acc: 0.8884 - val_loss: 0.2442 - val_acc: 0.9005\n",
      "Epoch 26/200\n",
      "37882/37882 [==============================] - 5s 136us/step - loss: 0.2805 - acc: 0.8910 - val_loss: 0.2398 - val_acc: 0.9069\n",
      "Epoch 27/200\n",
      "37882/37882 [==============================] - 5s 135us/step - loss: 0.2783 - acc: 0.8912 - val_loss: 0.2422 - val_acc: 0.9045\n",
      "Epoch 28/200\n",
      "37882/37882 [==============================] - 5s 136us/step - loss: 0.2810 - acc: 0.8901 - val_loss: 0.2387 - val_acc: 0.9066\n",
      "Epoch 29/200\n",
      "37882/37882 [==============================] - 5s 135us/step - loss: 0.2749 - acc: 0.8923 - val_loss: 0.2362 - val_acc: 0.9071\n",
      "Epoch 30/200\n",
      "37882/37882 [==============================] - 5s 136us/step - loss: 0.2688 - acc: 0.8921 - val_loss: 0.2354 - val_acc: 0.9067\n",
      "Epoch 31/200\n",
      "12288/37882 [========>.....................] - ETA: 3s - loss: 0.2666 - acc: 0.892937882/37882 [==============================] - 5s 136us/step - loss: 0.2668 - acc: 0.8925 - val_loss: 0.2335 - val_acc: 0.9080\n",
      "Epoch 32/200\n",
      "37882/37882 [==============================] - 5s 135us/step - loss: 0.2636 - acc: 0.8941 - val_loss: 0.2339 - val_acc: 0.9066\n",
      "Epoch 33/200\n",
      "37882/37882 [==============================] - 5s 136us/step - loss: 0.2647 - acc: 0.8958 - val_loss: 0.2358 - val_acc: 0.9117\n",
      "Epoch 34/200\n",
      "37882/37882 [==============================] - 5s 135us/step - loss: 0.2663 - acc: 0.8948 - val_loss: 0.2309 - val_acc: 0.9106\n",
      "Epoch 35/200\n",
      "37882/37882 [==============================] - 5s 136us/step - loss: 0.2616 - acc: 0.8956 - val_loss: 0.2343 - val_acc: 0.9064\n",
      "Epoch 36/200\n",
      "37882/37882 [==============================] - 5s 135us/step - loss: 0.2606 - acc: 0.8953 - val_loss: 0.2269 - val_acc: 0.9128\n",
      "Epoch 37/200\n",
      "37882/37882 [==============================] - 5s 135us/step - loss: 0.2598 - acc: 0.8967 - val_loss: 0.2394 - val_acc: 0.9023\n",
      "Epoch 38/200\n",
      "37882/37882 [==============================] - 5s 135us/step - loss: 0.2660 - acc: 0.8943 - val_loss: 0.2403 - val_acc: 0.9056\n",
      "Epoch 39/200\n",
      "12288/37882 [========>.....................] - ETA: 3s - loss: 0.2646 - acc: 0.896337882/37882 [==============================] - 5s 135us/step - loss: 0.2617 - acc: 0.8966 - val_loss: 0.2317 - val_acc: 0.9082\n",
      "Epoch 40/200\n",
      "37882/37882 [==============================] - 5s 135us/step - loss: 0.2599 - acc: 0.8975 - val_loss: 0.2343 - val_acc: 0.9085\n",
      "Epoch 41/200\n",
      "37882/37882 [==============================] - 5s 136us/step - loss: 0.2615 - acc: 0.8956 - val_loss: 0.2294 - val_acc: 0.9087\n",
      "Epoch 42/200\n",
      "37882/37882 [==============================] - 5s 136us/step - loss: 0.2540 - acc: 0.8990 - val_loss: 0.2265 - val_acc: 0.9103\n",
      "Epoch 43/200\n",
      "37882/37882 [==============================] - 5s 136us/step - loss: 0.2595 - acc: 0.8977 - val_loss: 0.2291 - val_acc: 0.9079\n",
      "Epoch 44/200\n",
      "37882/37882 [==============================] - 5s 135us/step - loss: 0.2618 - acc: 0.8977 - val_loss: 0.2309 - val_acc: 0.9088\n",
      "Epoch 45/200\n",
      "37882/37882 [==============================] - 5s 136us/step - loss: 0.2617 - acc: 0.8959 - val_loss: 0.2326 - val_acc: 0.9096\n",
      "Epoch 46/200\n",
      "37882/37882 [==============================] - 5s 134us/step - loss: 0.2604 - acc: 0.8986 - val_loss: 0.2326 - val_acc: 0.9096\n",
      "Epoch 47/200\n",
      "12288/37882 [========>.....................] - ETA: 3s - loss: 0.2620 - acc: 0.900037882/37882 [==============================] - 5s 136us/step - loss: 0.2601 - acc: 0.8995 - val_loss: 0.2290 - val_acc: 0.9101\n",
      "Epoch 48/200\n",
      "37882/37882 [==============================] - 5s 135us/step - loss: 0.2553 - acc: 0.8982 - val_loss: 0.2324 - val_acc: 0.9056\n",
      "Epoch 49/200\n",
      "37882/37882 [==============================] - 5s 136us/step - loss: 0.2527 - acc: 0.9002 - val_loss: 0.2291 - val_acc: 0.9120\n",
      "Epoch 50/200\n",
      "37882/37882 [==============================] - 5s 134us/step - loss: 0.2544 - acc: 0.9011 - val_loss: 0.2295 - val_acc: 0.9099\n",
      "Epoch 51/200\n",
      "37882/37882 [==============================] - 5s 135us/step - loss: 0.2495 - acc: 0.9003 - val_loss: 0.2276 - val_acc: 0.9122\n",
      "Epoch 52/200\n",
      "37882/37882 [==============================] - 5s 135us/step - loss: 0.2485 - acc: 0.9037 - val_loss: 0.2299 - val_acc: 0.9063\n",
      "Epoch 53/200\n",
      "37882/37882 [==============================] - 5s 135us/step - loss: 0.2468 - acc: 0.9011 - val_loss: 0.2279 - val_acc: 0.9114\n",
      "Epoch 54/200\n",
      "37882/37882 [==============================] - 5s 136us/step - loss: 0.2399 - acc: 0.9046 - val_loss: 0.2316 - val_acc: 0.9104\n",
      "Epoch 55/200\n",
      "12288/37882 [========>.....................] - ETA: 3s - loss: 0.2432 - acc: 0.903037882/37882 [==============================] - 5s 135us/step - loss: 0.2506 - acc: 0.9010 - val_loss: 0.2253 - val_acc: 0.9075\n",
      "Epoch 56/200\n",
      "37882/37882 [==============================] - 5s 136us/step - loss: 0.2476 - acc: 0.9031 - val_loss: 0.2284 - val_acc: 0.9099\n",
      "Epoch 57/200\n",
      "37882/37882 [==============================] - 5s 135us/step - loss: 0.2467 - acc: 0.9020 - val_loss: 0.2295 - val_acc: 0.9075\n",
      "Epoch 58/200\n",
      "37882/37882 [==============================] - 5s 136us/step - loss: 0.2465 - acc: 0.9021 - val_loss: 0.2285 - val_acc: 0.9104\n",
      "Epoch 59/200\n",
      "37882/37882 [==============================] - 5s 134us/step - loss: 0.2422 - acc: 0.9049 - val_loss: 0.2264 - val_acc: 0.9112\n",
      "Epoch 60/200\n",
      "37882/37882 [==============================] - 5s 136us/step - loss: 0.2453 - acc: 0.9040 - val_loss: 0.2299 - val_acc: 0.9075\n",
      "Epoch 61/200\n",
      "37882/37882 [==============================] - 5s 134us/step - loss: 0.2444 - acc: 0.9041 - val_loss: 0.2278 - val_acc: 0.9117\n",
      "Epoch 62/200\n",
      "37882/37882 [==============================] - 5s 136us/step - loss: 0.2390 - acc: 0.9064 - val_loss: 0.2312 - val_acc: 0.9107\n",
      "Epoch 63/200\n",
      "12288/37882 [========>.....................] - ETA: 3s - loss: 0.2269 - acc: 0.910637882/37882 [==============================] - 5s 134us/step - loss: 0.2372 - acc: 0.9076 - val_loss: 0.2245 - val_acc: 0.9152\n",
      "Epoch 64/200\n",
      "37882/37882 [==============================] - 5s 135us/step - loss: 0.2410 - acc: 0.9064 - val_loss: 0.2295 - val_acc: 0.9101\n",
      "Epoch 65/200\n",
      "37882/37882 [==============================] - 5s 135us/step - loss: 0.2349 - acc: 0.9076 - val_loss: 0.2232 - val_acc: 0.9144\n",
      "Epoch 66/200\n",
      "37882/37882 [==============================] - 5s 133us/step - loss: 0.2427 - acc: 0.9045 - val_loss: 0.2203 - val_acc: 0.9144\n",
      "Epoch 67/200\n",
      "37882/37882 [==============================] - 5s 134us/step - loss: 0.2396 - acc: 0.9075 - val_loss: 0.2278 - val_acc: 0.9131\n",
      "Epoch 68/200\n",
      "37882/37882 [==============================] - 5s 135us/step - loss: 0.2276 - acc: 0.9098 - val_loss: 0.2246 - val_acc: 0.9117\n",
      "Epoch 69/200\n",
      "37882/37882 [==============================] - 5s 135us/step - loss: 0.2368 - acc: 0.9064 - val_loss: 0.2239 - val_acc: 0.9138\n",
      "Epoch 70/200\n",
      "37882/37882 [==============================] - 5s 136us/step - loss: 0.2320 - acc: 0.9080 - val_loss: 0.2245 - val_acc: 0.9117\n",
      "Epoch 71/200\n",
      "12288/37882 [========>.....................] - ETA: 3s - loss: 0.2298 - acc: 0.910037882/37882 [==============================] - 5s 134us/step - loss: 0.2299 - acc: 0.9090 - val_loss: 0.2208 - val_acc: 0.9093\n",
      "Epoch 72/200\n",
      "37882/37882 [==============================] - 5s 135us/step - loss: 0.2350 - acc: 0.9078 - val_loss: 0.2261 - val_acc: 0.9096\n",
      "Epoch 73/200\n",
      "37882/37882 [==============================] - 5s 134us/step - loss: 0.2290 - acc: 0.9095 - val_loss: 0.2231 - val_acc: 0.9114\n",
      "Epoch 74/200\n",
      "37882/37882 [==============================] - 5s 134us/step - loss: 0.2397 - acc: 0.9064 - val_loss: 0.2225 - val_acc: 0.9147\n",
      "Epoch 75/200\n",
      "37882/37882 [==============================] - 5s 136us/step - loss: 0.2307 - acc: 0.9096 - val_loss: 0.2215 - val_acc: 0.9139\n",
      "Epoch 76/200\n",
      "37882/37882 [==============================] - 5s 134us/step - loss: 0.2278 - acc: 0.9112 - val_loss: 0.2256 - val_acc: 0.9165\n",
      "Epoch 77/200\n",
      "37882/37882 [==============================] - 5s 134us/step - loss: 0.2306 - acc: 0.9095 - val_loss: 0.2270 - val_acc: 0.9134\n",
      "Epoch 78/200\n",
      "37882/37882 [==============================] - 5s 136us/step - loss: 0.2304 - acc: 0.9117 - val_loss: 0.2237 - val_acc: 0.9095\n",
      "Epoch 79/200\n",
      "12288/37882 [========>.....................] - ETA: 3s - loss: 0.2346 - acc: 0.909537882/37882 [==============================] - 5s 135us/step - loss: 0.2330 - acc: 0.9101 - val_loss: 0.2247 - val_acc: 0.9122\n",
      "Epoch 80/200\n",
      "37882/37882 [==============================] - 5s 135us/step - loss: 0.2283 - acc: 0.9099 - val_loss: 0.2205 - val_acc: 0.9146\n",
      "Epoch 81/200\n",
      "37882/37882 [==============================] - 5s 135us/step - loss: 0.2223 - acc: 0.9120 - val_loss: 0.2231 - val_acc: 0.9147\n",
      "Epoch 82/200\n",
      "37882/37882 [==============================] - 5s 135us/step - loss: 0.2210 - acc: 0.9139 - val_loss: 0.2151 - val_acc: 0.9128\n",
      "Epoch 83/200\n",
      "37882/37882 [==============================] - 5s 134us/step - loss: 0.2148 - acc: 0.9159 - val_loss: 0.2225 - val_acc: 0.9114\n",
      "Epoch 84/200\n",
      "37882/37882 [==============================] - 5s 136us/step - loss: 0.2237 - acc: 0.9125 - val_loss: 0.2220 - val_acc: 0.9149\n",
      "Epoch 85/200\n",
      "37882/37882 [==============================] - 5s 135us/step - loss: 0.2200 - acc: 0.9143 - val_loss: 0.2231 - val_acc: 0.9122\n",
      "Epoch 86/200\n",
      "37882/37882 [==============================] - 5s 136us/step - loss: 0.2155 - acc: 0.9157 - val_loss: 0.2251 - val_acc: 0.9136\n",
      "Epoch 87/200\n",
      "12288/37882 [========>.....................] - ETA: 3s - loss: 0.2128 - acc: 0.917637882/37882 [==============================] - 5s 134us/step - loss: 0.2179 - acc: 0.9145 - val_loss: 0.2161 - val_acc: 0.9142\n",
      "Epoch 88/200\n",
      "37882/37882 [==============================] - 5s 136us/step - loss: 0.2206 - acc: 0.9135 - val_loss: 0.2149 - val_acc: 0.9158\n",
      "Epoch 89/200\n",
      "37882/37882 [==============================] - 5s 135us/step - loss: 0.2125 - acc: 0.9146 - val_loss: 0.2195 - val_acc: 0.9134\n",
      "Epoch 90/200\n",
      "37882/37882 [==============================] - 5s 135us/step - loss: 0.2202 - acc: 0.9132 - val_loss: 0.2237 - val_acc: 0.9125\n",
      "Epoch 91/200\n",
      "37882/37882 [==============================] - 5s 135us/step - loss: 0.2210 - acc: 0.9149 - val_loss: 0.2233 - val_acc: 0.9123\n",
      "Epoch 92/200\n",
      "37882/37882 [==============================] - 5s 135us/step - loss: 0.2136 - acc: 0.9160 - val_loss: 0.2184 - val_acc: 0.9131\n",
      "Epoch 93/200\n",
      "37882/37882 [==============================] - 5s 135us/step - loss: 0.2155 - acc: 0.9160 - val_loss: 0.2164 - val_acc: 0.9150\n",
      "Epoch 94/200\n",
      "37882/37882 [==============================] - 5s 134us/step - loss: 0.2152 - acc: 0.9179 - val_loss: 0.2186 - val_acc: 0.9149\n",
      "Epoch 95/200\n",
      "12288/37882 [========>.....................] - ETA: 3s - loss: 0.2172 - acc: 0.918037882/37882 [==============================] - 5s 136us/step - loss: 0.2275 - acc: 0.9138 - val_loss: 0.2173 - val_acc: 0.9158\n",
      "Epoch 96/200\n",
      "37882/37882 [==============================] - 5s 134us/step - loss: 0.2147 - acc: 0.9167 - val_loss: 0.2165 - val_acc: 0.9125\n",
      "Epoch 97/200\n",
      "37882/37882 [==============================] - 5s 135us/step - loss: 0.2099 - acc: 0.9188 - val_loss: 0.2169 - val_acc: 0.9173\n",
      "Epoch 98/200\n",
      "37882/37882 [==============================] - 5s 135us/step - loss: 0.2144 - acc: 0.9177 - val_loss: 0.2181 - val_acc: 0.9210\n",
      "Epoch 99/200\n",
      "37882/37882 [==============================] - 5s 135us/step - loss: 0.2070 - acc: 0.9199 - val_loss: 0.2166 - val_acc: 0.9173\n",
      "Epoch 100/200\n",
      "37882/37882 [==============================] - 5s 135us/step - loss: 0.2076 - acc: 0.9190 - val_loss: 0.2203 - val_acc: 0.9144\n",
      "Epoch 101/200\n",
      "37882/37882 [==============================] - 5s 134us/step - loss: 0.2104 - acc: 0.9177 - val_loss: 0.2179 - val_acc: 0.9176\n",
      "Epoch 102/200\n",
      "37882/37882 [==============================] - 5s 135us/step - loss: 0.2042 - acc: 0.9207 - val_loss: 0.2127 - val_acc: 0.9187\n",
      "Epoch 103/200\n",
      "12288/37882 [========>.....................] - ETA: 3s - loss: 0.2043 - acc: 0.920437882/37882 [==============================] - 5s 134us/step - loss: 0.2031 - acc: 0.9207 - val_loss: 0.2144 - val_acc: 0.9160\n",
      "Epoch 104/200\n",
      "37882/37882 [==============================] - 5s 134us/step - loss: 0.2055 - acc: 0.9195 - val_loss: 0.2156 - val_acc: 0.9163\n",
      "Epoch 105/200\n",
      "37882/37882 [==============================] - 5s 135us/step - loss: 0.2068 - acc: 0.9190 - val_loss: 0.2154 - val_acc: 0.9158\n",
      "Epoch 106/200\n",
      "37882/37882 [==============================] - 5s 134us/step - loss: 0.2084 - acc: 0.9199 - val_loss: 0.2125 - val_acc: 0.9184\n",
      "Epoch 107/200\n",
      "37882/37882 [==============================] - 5s 134us/step - loss: 0.2058 - acc: 0.9201 - val_loss: 0.2170 - val_acc: 0.9165\n",
      "Epoch 108/200\n",
      "37882/37882 [==============================] - 5s 135us/step - loss: 0.2057 - acc: 0.9199 - val_loss: 0.2145 - val_acc: 0.9187\n",
      "Epoch 109/200\n",
      "37882/37882 [==============================] - 5s 134us/step - loss: 0.2058 - acc: 0.9210 - val_loss: 0.2127 - val_acc: 0.9162\n",
      "Epoch 110/200\n",
      "37882/37882 [==============================] - 5s 135us/step - loss: 0.2054 - acc: 0.9196 - val_loss: 0.2138 - val_acc: 0.9171\n",
      "Epoch 111/200\n",
      "12288/37882 [========>.....................] - ETA: 3s - loss: 0.2031 - acc: 0.917937882/37882 [==============================] - 5s 135us/step - loss: 0.2040 - acc: 0.9194 - val_loss: 0.2167 - val_acc: 0.9178\n",
      "Epoch 112/200\n",
      "37882/37882 [==============================] - 5s 135us/step - loss: 0.2037 - acc: 0.9214 - val_loss: 0.2172 - val_acc: 0.9136\n",
      "Epoch 113/200\n",
      "37882/37882 [==============================] - 5s 135us/step - loss: 0.2002 - acc: 0.9220 - val_loss: 0.2135 - val_acc: 0.9192\n",
      "Epoch 114/200\n",
      "37882/37882 [==============================] - 5s 134us/step - loss: 0.1993 - acc: 0.9222 - val_loss: 0.2149 - val_acc: 0.9162\n",
      "Epoch 115/200\n",
      "37882/37882 [==============================] - 5s 135us/step - loss: 0.2018 - acc: 0.9221 - val_loss: 0.2142 - val_acc: 0.9192\n",
      "Epoch 116/200\n",
      "37882/37882 [==============================] - 5s 134us/step - loss: 0.1961 - acc: 0.9229 - val_loss: 0.2200 - val_acc: 0.9158\n",
      "Epoch 117/200\n",
      "37882/37882 [==============================] - 5s 134us/step - loss: 0.1981 - acc: 0.9227 - val_loss: 0.2164 - val_acc: 0.9190\n",
      "Epoch 118/200\n",
      "37882/37882 [==============================] - 5s 135us/step - loss: 0.1954 - acc: 0.9238 - val_loss: 0.2224 - val_acc: 0.9146\n",
      "Epoch 119/200\n",
      "12288/37882 [========>.....................] - ETA: 3s - loss: 0.1962 - acc: 0.924737882/37882 [==============================] - 5s 135us/step - loss: 0.1964 - acc: 0.9231 - val_loss: 0.2195 - val_acc: 0.9133\n",
      "Epoch 120/200\n",
      "37882/37882 [==============================] - 5s 134us/step - loss: 0.1986 - acc: 0.9226 - val_loss: 0.2134 - val_acc: 0.9176\n",
      "Epoch 121/200\n",
      "37882/37882 [==============================] - 5s 135us/step - loss: 0.1980 - acc: 0.9225 - val_loss: 0.2131 - val_acc: 0.9197\n",
      "Epoch 122/200\n",
      "37882/37882 [==============================] - 5s 134us/step - loss: 0.2057 - acc: 0.9201 - val_loss: 0.2168 - val_acc: 0.9187\n",
      "Epoch 123/200\n",
      "37882/37882 [==============================] - 5s 135us/step - loss: 0.2069 - acc: 0.9205 - val_loss: 0.2161 - val_acc: 0.9174\n",
      "Epoch 124/200\n",
      "37882/37882 [==============================] - 5s 134us/step - loss: 0.2043 - acc: 0.9201 - val_loss: 0.2165 - val_acc: 0.9152\n",
      "Epoch 125/200\n",
      "37882/37882 [==============================] - 5s 134us/step - loss: 0.1964 - acc: 0.9237 - val_loss: 0.2133 - val_acc: 0.9200\n",
      "Epoch 126/200\n",
      "37882/37882 [==============================] - 5s 135us/step - loss: 0.1992 - acc: 0.9229 - val_loss: 0.2151 - val_acc: 0.9168\n",
      "Epoch 127/200\n",
      "12288/37882 [========>.....................] - ETA: 3s - loss: 0.1902 - acc: 0.926837882/37882 [==============================] - 5s 135us/step - loss: 0.1919 - acc: 0.9251 - val_loss: 0.2183 - val_acc: 0.9171\n",
      "Epoch 128/200\n",
      "37882/37882 [==============================] - 5s 134us/step - loss: 0.1953 - acc: 0.9234 - val_loss: 0.2164 - val_acc: 0.9162\n",
      "Epoch 129/200\n",
      "37882/37882 [==============================] - 5s 135us/step - loss: 0.1990 - acc: 0.9217 - val_loss: 0.2111 - val_acc: 0.9168\n",
      "Epoch 130/200\n",
      "37882/37882 [==============================] - 5s 134us/step - loss: 0.1937 - acc: 0.9250 - val_loss: 0.2149 - val_acc: 0.9182\n",
      "Epoch 131/200\n",
      "37882/37882 [==============================] - 5s 135us/step - loss: 0.1903 - acc: 0.9261 - val_loss: 0.2098 - val_acc: 0.9174\n",
      "Epoch 132/200\n",
      "37882/37882 [==============================] - 5s 135us/step - loss: 0.1926 - acc: 0.9254 - val_loss: 0.2146 - val_acc: 0.9187\n",
      "Epoch 133/200\n",
      "37882/37882 [==============================] - 5s 135us/step - loss: 0.1940 - acc: 0.9241 - val_loss: 0.2151 - val_acc: 0.9139\n",
      "Epoch 134/200\n",
      "37882/37882 [==============================] - 5s 135us/step - loss: 0.1878 - acc: 0.9268 - val_loss: 0.2085 - val_acc: 0.9192\n",
      "Epoch 135/200\n",
      "12288/37882 [========>.....................] - ETA: 3s - loss: 0.1833 - acc: 0.927837882/37882 [==============================] - 5s 134us/step - loss: 0.1877 - acc: 0.9273 - val_loss: 0.2133 - val_acc: 0.9165\n",
      "Epoch 136/200\n",
      "37882/37882 [==============================] - 5s 134us/step - loss: 0.1863 - acc: 0.9268 - val_loss: 0.2133 - val_acc: 0.9173\n",
      "Epoch 137/200\n",
      "37882/37882 [==============================] - 5s 135us/step - loss: 0.1945 - acc: 0.9243 - val_loss: 0.2111 - val_acc: 0.9154\n",
      "Epoch 138/200\n",
      "37882/37882 [==============================] - 5s 134us/step - loss: 0.1896 - acc: 0.9270 - val_loss: 0.2129 - val_acc: 0.9186\n",
      "Epoch 139/200\n",
      "37882/37882 [==============================] - 5s 135us/step - loss: 0.1935 - acc: 0.9255 - val_loss: 0.2104 - val_acc: 0.9214\n",
      "Epoch 140/200\n",
      "37882/37882 [==============================] - 5s 135us/step - loss: 0.1929 - acc: 0.9273 - val_loss: 0.2084 - val_acc: 0.9181\n",
      "Epoch 141/200\n",
      "37882/37882 [==============================] - 5s 134us/step - loss: 0.1970 - acc: 0.9236 - val_loss: 0.2148 - val_acc: 0.9168\n",
      "Epoch 142/200\n",
      "37882/37882 [==============================] - 5s 135us/step - loss: 0.1980 - acc: 0.9247 - val_loss: 0.2108 - val_acc: 0.9170\n",
      "Epoch 143/200\n",
      "12288/37882 [========>.....................] - ETA: 3s - loss: 0.1988 - acc: 0.923737882/37882 [==============================] - 5s 134us/step - loss: 0.2000 - acc: 0.9233 - val_loss: 0.2139 - val_acc: 0.9197\n",
      "Epoch 144/200\n",
      "37882/37882 [==============================] - 5s 134us/step - loss: 0.2005 - acc: 0.9210 - val_loss: 0.2105 - val_acc: 0.9192\n",
      "Epoch 145/200\n",
      "37882/37882 [==============================] - 5s 136us/step - loss: 0.1942 - acc: 0.9254 - val_loss: 0.2111 - val_acc: 0.9187\n",
      "Epoch 146/200\n",
      "37882/37882 [==============================] - 5s 133us/step - loss: 0.1886 - acc: 0.9269 - val_loss: 0.2182 - val_acc: 0.9186\n",
      "Epoch 147/200\n",
      "37882/37882 [==============================] - 5s 134us/step - loss: 0.1945 - acc: 0.9255 - val_loss: 0.2102 - val_acc: 0.9181\n",
      "Epoch 148/200\n",
      "37882/37882 [==============================] - 5s 136us/step - loss: 0.1922 - acc: 0.9270 - val_loss: 0.2091 - val_acc: 0.9197\n",
      "Epoch 149/200\n",
      "37882/37882 [==============================] - 5s 134us/step - loss: 0.1825 - acc: 0.9291 - val_loss: 0.2100 - val_acc: 0.9158\n",
      "Epoch 150/200\n",
      "37882/37882 [==============================] - 5s 135us/step - loss: 0.1833 - acc: 0.9286 - val_loss: 0.2119 - val_acc: 0.9162\n",
      "Epoch 151/200\n",
      "12288/37882 [========>.....................] - ETA: 3s - loss: 0.1881 - acc: 0.926437882/37882 [==============================] - 5s 134us/step - loss: 0.1831 - acc: 0.9293 - val_loss: 0.2070 - val_acc: 0.9184\n",
      "Epoch 152/200\n",
      "37882/37882 [==============================] - 5s 134us/step - loss: 0.1799 - acc: 0.9300 - val_loss: 0.2106 - val_acc: 0.9189\n",
      "Epoch 153/200\n",
      "37882/37882 [==============================] - 5s 135us/step - loss: 0.1836 - acc: 0.9295 - val_loss: 0.2111 - val_acc: 0.9179\n",
      "Epoch 154/200\n",
      "37882/37882 [==============================] - 5s 134us/step - loss: 0.1809 - acc: 0.9294 - val_loss: 0.2059 - val_acc: 0.9214\n",
      "Epoch 155/200\n",
      "37882/37882 [==============================] - 5s 135us/step - loss: 0.1806 - acc: 0.9310 - val_loss: 0.2067 - val_acc: 0.9189\n",
      "Epoch 156/200\n",
      "37882/37882 [==============================] - 5s 135us/step - loss: 0.1816 - acc: 0.9285 - val_loss: 0.2097 - val_acc: 0.9189\n",
      "Epoch 157/200\n",
      "37882/37882 [==============================] - 5s 134us/step - loss: 0.1772 - acc: 0.9315 - val_loss: 0.2131 - val_acc: 0.9184\n",
      "Epoch 158/200\n",
      "37882/37882 [==============================] - 5s 134us/step - loss: 0.1799 - acc: 0.9304 - val_loss: 0.2071 - val_acc: 0.9218\n",
      "Epoch 159/200\n",
      "12288/37882 [========>.....................] - ETA: 3s - loss: 0.1767 - acc: 0.932937882/37882 [==============================] - 5s 135us/step - loss: 0.1732 - acc: 0.9329 - val_loss: 0.2095 - val_acc: 0.9205\n",
      "Epoch 160/200\n",
      "37882/37882 [==============================] - 5s 133us/step - loss: 0.1749 - acc: 0.9331 - val_loss: 0.2088 - val_acc: 0.9211\n",
      "Epoch 161/200\n",
      "37882/37882 [==============================] - 5s 135us/step - loss: 0.1719 - acc: 0.9340 - val_loss: 0.2102 - val_acc: 0.9184\n",
      "Epoch 162/200\n",
      "37882/37882 [==============================] - 5s 134us/step - loss: 0.1793 - acc: 0.9305 - val_loss: 0.2074 - val_acc: 0.9189\n",
      "Epoch 163/200\n",
      "37882/37882 [==============================] - 5s 134us/step - loss: 0.1762 - acc: 0.9309 - val_loss: 0.2125 - val_acc: 0.9186\n",
      "Epoch 164/200\n",
      "37882/37882 [==============================] - 5s 134us/step - loss: 0.1798 - acc: 0.9312 - val_loss: 0.2068 - val_acc: 0.9182\n",
      "Epoch 165/200\n",
      "37882/37882 [==============================] - 5s 135us/step - loss: 0.1821 - acc: 0.9292 - val_loss: 0.2127 - val_acc: 0.9181\n",
      "Epoch 166/200\n",
      "37882/37882 [==============================] - 5s 133us/step - loss: 0.1833 - acc: 0.9281 - val_loss: 0.2084 - val_acc: 0.9202\n",
      "Epoch 167/200\n",
      "12288/37882 [========>.....................] - ETA: 3s - loss: 0.1958 - acc: 0.923837882/37882 [==============================] - 5s 135us/step - loss: 0.1903 - acc: 0.9259 - val_loss: 0.2141 - val_acc: 0.9154\n",
      "Epoch 168/200\n",
      "37882/37882 [==============================] - 5s 134us/step - loss: 0.1822 - acc: 0.9288 - val_loss: 0.2081 - val_acc: 0.9237\n",
      "Epoch 169/200\n",
      "37882/37882 [==============================] - 5s 134us/step - loss: 0.1809 - acc: 0.9314 - val_loss: 0.2061 - val_acc: 0.9195\n",
      "Epoch 170/200\n",
      "37882/37882 [==============================] - 5s 135us/step - loss: 0.1743 - acc: 0.9319 - val_loss: 0.2093 - val_acc: 0.9187\n",
      "Epoch 171/200\n",
      "37882/37882 [==============================] - 5s 134us/step - loss: 0.1786 - acc: 0.9302 - val_loss: 0.2064 - val_acc: 0.9200\n",
      "Epoch 172/200\n",
      "37882/37882 [==============================] - 5s 134us/step - loss: 0.1764 - acc: 0.9332 - val_loss: 0.2125 - val_acc: 0.9194\n",
      "Epoch 173/200\n",
      "37882/37882 [==============================] - 5s 135us/step - loss: 0.1823 - acc: 0.9306 - val_loss: 0.2099 - val_acc: 0.9178\n",
      "Epoch 174/200\n",
      "37882/37882 [==============================] - 5s 134us/step - loss: 0.1791 - acc: 0.9311 - val_loss: 0.2095 - val_acc: 0.9198\n",
      "Epoch 175/200\n",
      "12288/37882 [========>.....................] - ETA: 3s - loss: 0.1757 - acc: 0.934737882/37882 [==============================] - 5s 134us/step - loss: 0.1800 - acc: 0.9331 - val_loss: 0.2162 - val_acc: 0.9200\n",
      "Epoch 176/200\n",
      "37882/37882 [==============================] - 5s 135us/step - loss: 0.1763 - acc: 0.9309 - val_loss: 0.2153 - val_acc: 0.9176\n",
      "Epoch 177/200\n",
      "37882/37882 [==============================] - 5s 135us/step - loss: 0.1824 - acc: 0.9313 - val_loss: 0.2098 - val_acc: 0.9214\n",
      "Epoch 178/200\n",
      "37882/37882 [==============================] - 5s 135us/step - loss: 0.1772 - acc: 0.9320 - val_loss: 0.2127 - val_acc: 0.9189\n",
      "Epoch 179/200\n",
      "37882/37882 [==============================] - 5s 135us/step - loss: 0.1759 - acc: 0.9331 - val_loss: 0.2152 - val_acc: 0.9162\n",
      "Epoch 180/200\n",
      "37882/37882 [==============================] - 5s 134us/step - loss: 0.1757 - acc: 0.9321 - val_loss: 0.2142 - val_acc: 0.9182\n",
      "Epoch 181/200\n",
      "37882/37882 [==============================] - 5s 135us/step - loss: 0.1725 - acc: 0.9330 - val_loss: 0.2168 - val_acc: 0.9152\n",
      "Epoch 182/200\n",
      "37882/37882 [==============================] - 5s 134us/step - loss: 0.1760 - acc: 0.9333 - val_loss: 0.2118 - val_acc: 0.9186\n",
      "Epoch 183/200\n",
      "12288/37882 [========>.....................] - ETA: 3s - loss: 0.1765 - acc: 0.932537882/37882 [==============================] - 5s 135us/step - loss: 0.1751 - acc: 0.9329 - val_loss: 0.2147 - val_acc: 0.9173\n",
      "Epoch 184/200\n",
      "37882/37882 [==============================] - 5s 135us/step - loss: 0.1729 - acc: 0.9351 - val_loss: 0.2151 - val_acc: 0.9202\n",
      "Epoch 185/200\n",
      "37882/37882 [==============================] - 5s 134us/step - loss: 0.1720 - acc: 0.9346 - val_loss: 0.2169 - val_acc: 0.9184\n",
      "Epoch 186/200\n",
      "37882/37882 [==============================] - 5s 135us/step - loss: 0.1727 - acc: 0.9330 - val_loss: 0.2159 - val_acc: 0.9176\n",
      "Epoch 187/200\n",
      "37882/37882 [==============================] - 5s 134us/step - loss: 0.1724 - acc: 0.9341 - val_loss: 0.2143 - val_acc: 0.9184\n",
      "Epoch 188/200\n",
      "37882/37882 [==============================] - 5s 134us/step - loss: 0.1701 - acc: 0.9336 - val_loss: 0.2117 - val_acc: 0.9176\n",
      "Epoch 189/200\n",
      "37882/37882 [==============================] - 5s 135us/step - loss: 0.1745 - acc: 0.9339 - val_loss: 0.2136 - val_acc: 0.9197\n",
      "Epoch 190/200\n",
      "37882/37882 [==============================] - 5s 133us/step - loss: 0.1774 - acc: 0.9317 - val_loss: 0.2131 - val_acc: 0.9149\n",
      "Epoch 191/200\n",
      "12288/37882 [========>.....................] - ETA: 3s - loss: 0.1704 - acc: 0.936537882/37882 [==============================] - 5s 134us/step - loss: 0.1693 - acc: 0.9345 - val_loss: 0.2085 - val_acc: 0.9194\n",
      "Epoch 192/200\n",
      "37882/37882 [==============================] - 5s 135us/step - loss: 0.1770 - acc: 0.9326 - val_loss: 0.2105 - val_acc: 0.9176\n",
      "Epoch 193/200\n",
      "37882/37882 [==============================] - 5s 134us/step - loss: 0.1760 - acc: 0.9332 - val_loss: 0.2161 - val_acc: 0.9157\n",
      "Epoch 194/200\n",
      "37882/37882 [==============================] - 5s 134us/step - loss: 0.1829 - acc: 0.9304 - val_loss: 0.2090 - val_acc: 0.9181\n",
      "Epoch 195/200\n",
      "37882/37882 [==============================] - 5s 135us/step - loss: 0.1892 - acc: 0.9288 - val_loss: 0.2132 - val_acc: 0.9178\n",
      "Epoch 196/200\n",
      "37882/37882 [==============================] - 5s 134us/step - loss: 0.1780 - acc: 0.9326 - val_loss: 0.2114 - val_acc: 0.9170\n",
      "Epoch 197/200\n",
      "37882/37882 [==============================] - 5s 135us/step - loss: 0.1738 - acc: 0.9332 - val_loss: 0.2096 - val_acc: 0.9192\n",
      "Epoch 198/200\n",
      "37882/37882 [==============================] - 5s 135us/step - loss: 0.1755 - acc: 0.9347 - val_loss: 0.2113 - val_acc: 0.9176\n",
      "Epoch 199/200\n",
      "12288/37882 [========>.....................] - ETA: 3s - loss: 0.1698 - acc: 0.936037882/37882 [==============================] - 5s 134us/step - loss: 0.1730 - acc: 0.9346 - val_loss: 0.2148 - val_acc: 0.9165\n",
      "Epoch 200/200\n",
      "37882/37882 [==============================] - 5s 133us/step - loss: 0.1771 - acc: 0.9321 - val_loss: 0.2142 - val_acc: 0.9195\n",
      "Test loss: 21.42%\n",
      "Test accuracy: 91.95%\n",
      "Total time is 17.08 minutes\n"
     ]
    }
   ],
   "source": [
    "# Define our model\n",
    "start = time.time()\n",
    "model = Sequential()\n",
    "model.add(Flatten(input_shape=(4,4,512)))\n",
    "# Two fully-connected layers of 4096 channels with dropout after each\n",
    "model.add(Dense(4096, activation='relu'))\n",
    "model.add(Dropout(0.7))\n",
    "model.add(Dense(4096, activation='relu'))\n",
    "model.add(Dropout(0.7))\n",
    "# Fully-connected layer of 62 channels for 62 classes\n",
    "model.add(Dense(62, activation='softmax'))\n",
    "\n",
    "# Define Adam optimizer\n",
    "adam = keras.optimizers.Adam(lr=0.0001, beta_1=0.9, beta_2=0.999, epsilon=None, decay=1e-6, amsgrad=False)\n",
    "\n",
    "# Compile the model\n",
    "model.compile(optimizer=adam, loss='categorical_crossentropy', metrics=['accuracy'])\n",
    "\n",
    "# Define a callback to save the model to h5 file whenever a max val_acc is reached\n",
    "save_call = keras.callbacks.ModelCheckpoint('Model.h5', monitor='val_acc', verbose=0, save_best_only=True, save_weights_only=False, mode='max', period=1)\n",
    "\n",
    "# Train the model and save its history\n",
    "history = model.fit(X_train, y_train,\n",
    "          epochs=200,\n",
    "          batch_size=2048,\n",
    "          validation_data=(X_test, y_test),\n",
    "          callbacks=[save_call])\n",
    "\n",
    "# Calculate accuracy, loss of epoch 200\n",
    "score = saved_model.evaluate(X_test, y_test, verbose=0)\n",
    "print('Test loss: {:0.2f}%'.format(score[0]*100))\n",
    "print('Test accuracy: {:0.2f}%'.format(score[1]*100))\n",
    "\n",
    "end = time.time()\n",
    "print('Total time is {:0.2f} minutes'.format(int(end-start)/60))\n"
   ]
  },
  {
   "cell_type": "markdown",
   "metadata": {
    "colab_type": "text",
    "id": "KmOcDqllOoPb"
   },
   "source": [
    "### **3. Evaluation and visualisation**"
   ]
  },
  {
   "cell_type": "code",
   "execution_count": 9,
   "metadata": {
    "colab": {
     "autoexec": {
      "startup": false,
      "wait_interval": 0
     },
     "base_uri": "https://localhost:8080/",
     "height": 90
    },
    "colab_type": "code",
    "executionInfo": {
     "elapsed": 13407,
     "status": "ok",
     "timestamp": 1528435533587,
     "user": {
      "displayName": "Quang Trung Nguyen",
      "photoUrl": "https://lh3.googleusercontent.com/a/default-user=s128",
      "userId": "101440611471078999429"
     },
     "user_tz": -600
    },
    "id": "HA8j2D_yN8S_",
    "outputId": "cc6a9fe4-3479-4e63-85a5-1a4585d305fc"
   },
   "outputs": [
    {
     "name": "stdout",
     "output_type": "stream",
     "text": [
      "WARNING:tensorflow:Variable *= will be deprecated. Use variable.assign_mul if you want assignment to the variable value or 'x = x * y' if you want a new python Tensor object.\n",
      "Test loss: 21.06%\n",
      "Test accuracy: 92.37%\n"
     ]
    }
   ],
   "source": [
    "# Load our final model\n",
    "model_file = drive.CreateFile({'id': '1qO_PUBl6GL5SUP6hm1dDKMBQZ6X7ZZ10'})\n",
    "model_file.GetContentFile('Final_Model.h5')\n",
    "final_model = load_model('Final_Model.h5')\n",
    "\n",
    "# Calculate accuracy, loss\n",
    "score = final_model.evaluate(X_test, y_test, verbose=0)\n",
    "print('Test loss: {:0.2f}%'.format(score[0]*100))\n",
    "print('Test accuracy: {:0.2f}%'.format(score[1]*100))\n"
   ]
  },
  {
   "cell_type": "code",
   "execution_count": null,
   "metadata": {
    "colab": {
     "autoexec": {
      "startup": false,
      "wait_interval": 0
     },
     "base_uri": "https://localhost:8080/",
     "height": 1301
    },
    "colab_type": "code",
    "executionInfo": {
     "elapsed": 2319,
     "status": "ok",
     "timestamp": 1528202837164,
     "user": {
      "displayName": "chiVinhPT",
      "photoUrl": "https://lh3.googleusercontent.com/a/default-user=s128",
      "userId": "109116061979958150697"
     },
     "user_tz": -600
    },
    "id": "UkzImMVjl67G",
    "outputId": "2e50c9cc-968d-4c1a-9065-7a7e8c55ef25"
   },
   "outputs": [
    {
     "data": {
      "image/png": "[encoded data removed]",
      "text/plain": [
       "<matplotlib.figure.Figure at 0x7ff98ed832b0>"
      ]
     },
     "metadata": {
      "tags": []
     },
     "output_type": "display_data"
    },
    {
     "data": {
      "image/png": "[encoded data removed]",
      "text/plain": [
       "<matplotlib.figure.Figure at 0x7ff98ed68630>"
      ]
     },
     "metadata": {
      "tags": []
     },
     "output_type": "display_data"
    }
   ],
   "source": [
    "# Plot accuracy \n",
    "plt.rcParams['figure.figsize'] = (8,6)\n",
    "plt.rcParams['figure.dpi'] = 120\n",
    "plt.plot(history.history['acc'])\n",
    "plt.plot(history.history['val_acc'])\n",
    "plt.title('Accuracy')\n",
    "plt.ylabel('accuracy')\n",
    "plt.xlabel('epoch')\n",
    "plt.legend(['train', 'test'], loc='upper left')\n",
    "plt.show()\n",
    "\n",
    "# Plot loss\n",
    "plt.plot(history.history['loss'])\n",
    "plt.plot(history.history['val_loss'])\n",
    "plt.title('Loss')\n",
    "plt.ylabel('loss')\n",
    "plt.xlabel('epoch')\n",
    "plt.legend(['train', 'test'], loc='upper left')\n",
    "plt.show()"
   ]
  },
  {
   "cell_type": "code",
   "execution_count": null,
   "metadata": {
    "colab": {
     "autoexec": {
      "startup": false,
      "wait_interval": 0
     }
    },
    "colab_type": "code",
    "id": "VlTh7xj_l647"
   },
   "outputs": [],
   "source": []
  },
  {
   "cell_type": "code",
   "execution_count": 1,
   "metadata": {
    "colab": {
     "autoexec": {
      "startup": false,
      "wait_interval": 0
     },
     "base_uri": "https://localhost:8080/",
     "height": 123
    },
    "colab_type": "code",
    "executionInfo": {
     "elapsed": 8797,
     "status": "ok",
     "timestamp": 1528439139762,
     "user": {
      "displayName": "Quang Trung Nguyen",
      "photoUrl": "https://lh3.googleusercontent.com/a/default-user=s128",
      "userId": "101440611471078999429"
     },
     "user_tz": -600
    },
    "id": "6KnPyXmlPlhY",
    "outputId": "8bec575a-2121-4084-a0f2-9b7f0c3c3f56"
   },
   "outputs": [
    {
     "name": "stdout",
     "output_type": "stream",
     "text": [
      "Requirement already satisfied: gputil in /usr/local/lib/python3.6/dist-packages (1.3.0)\n",
      "Requirement already satisfied: numpy in /usr/local/lib/python3.6/dist-packages (from gputil) (1.14.3)\n",
      "Requirement already satisfied: psutil in /usr/local/lib/python3.6/dist-packages (5.4.5)\n",
      "Requirement already satisfied: humanize in /usr/local/lib/python3.6/dist-packages (0.5.1)\n",
      "Gen RAM Free: 12.7 GB  I Proc size: 146.6 MB\n",
      "GPU RAM Free: 11438MB | Used: 1MB | Util   0% | Total 11439MB\n"
     ]
    }
   ],
   "source": [
    "#Check Memory adapted from : https://stackoverflow.com/questions/48750199/google-colaboratory-misleading-information-about-its-gpu-only-5-ram-available\n",
    "# memory footprint support libraries/code\n",
    "!ln -sf /opt/bin/nvidia-smi /usr/bin/nvidia-smi\n",
    "!pip install gputil\n",
    "!pip install psutil\n",
    "!pip install humanize\n",
    "import psutil\n",
    "import humanize\n",
    "import os\n",
    "import GPUtil as GPU\n",
    "\n",
    "GPUs = GPU.getGPUs()\n",
    "gpu = GPUs[0]\n",
    "def printm():\n",
    " process = psutil.Process(os.getpid())\n",
    " print(\"Gen RAM Free: \" + humanize.naturalsize( psutil.virtual_memory().available ), \" I Proc size: \" + humanize.naturalsize( process.memory_info().rss))\n",
    " print(\"GPU RAM Free: {0:.0f}MB | Used: {1:.0f}MB | Util {2:3.0f}% | Total {3:.0f}MB\".format(gpu.memoryFree, gpu.memoryUsed, gpu.memoryUtil*100, gpu.memoryTotal))\n",
    "printm()"
   ]
  }
 ],
 "metadata": {
  "accelerator": "GPU",
  "colab": {
   "collapsed_sections": [],
   "default_view": {},
   "name": "Final_Model_VGG16.ipynb",
   "provenance": [
    {
     "file_id": "18X9UXvSwSR0NKp7MLqbEgWj-JYjkDOp9",
     "timestamp": 1528386823629
    },
    {
     "file_id": "1DHTtrMcYfk6XZj8MREfkz4xr6FfdmkJC",
     "timestamp": 1528207470511
    },
    {
     "file_id": "1gn4UMy_zFlmxS-s2-Njip8tvZKyJ9p5B",
     "timestamp": 1528187020475
    },
    {
     "file_id": "1NRfPCXmDlc5HFkSZe5P1uxrXy2342OIc",
     "timestamp": 1527374324620
    }
   ],
   "version": "0.3.2",
   "views": {}
  },
  "kernelspec": {
   "display_name": "Python 3",
   "language": "python",
   "name": "python3"
  },
  "language_info": {
   "codemirror_mode": {
    "name": "ipython",
    "version": 3
   },
   "file_extension": ".py",
   "mimetype": "text/x-python",
   "name": "python",
   "nbconvert_exporter": "python",
   "pygments_lexer": "ipython3",
   "version": "3.6.4"
  }
 },
 "nbformat": 4,
 "nbformat_minor": 2
}
